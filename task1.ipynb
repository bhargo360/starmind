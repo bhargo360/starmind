{
 "metadata": {
  "language_info": {
   "codemirror_mode": {
    "name": "ipython",
    "version": 3
   },
   "file_extension": ".py",
   "mimetype": "text/x-python",
   "name": "python",
   "nbconvert_exporter": "python",
   "pygments_lexer": "ipython3",
   "version": "3.9.0"
  },
  "orig_nbformat": 4,
  "kernelspec": {
   "name": "python3",
   "display_name": "Python 3.9.0 64-bit ('explab': conda)"
  },
  "interpreter": {
   "hash": "6bf8d9245a7d988c736e71f968cdbe4961f756d5a301377652f1c8e323d8a379"
  }
 },
 "nbformat": 4,
 "nbformat_minor": 2,
 "cells": [
  {
   "source": [
    "# Import Libraries"
   ],
   "cell_type": "markdown",
   "metadata": {}
  },
  {
   "cell_type": "code",
   "execution_count": 1,
   "metadata": {},
   "outputs": [],
   "source": [
    "from difflib import ndiff\n",
    "import pandas as pd"
   ]
  },
  {
   "source": [
    "# Defining Functions"
   ],
   "cell_type": "markdown",
   "metadata": {}
  },
  {
   "cell_type": "code",
   "execution_count": 2,
   "metadata": {},
   "outputs": [],
   "source": [
    "def levenshtein_distance(str1, str2):\n",
    "    counter = {\"+\": 0, \"-\": 0}\n",
    "    distance = 0\n",
    "    for edit_code, *_ in ndiff(str1, str2):\n",
    "        if edit_code == \" \":\n",
    "            distance += max(counter.values())\n",
    "            counter = {\"+\": 0, \"-\": 0}\n",
    "        else: \n",
    "            counter[edit_code] += 1\n",
    "    distance += max(counter.values())\n",
    "    return distance"
   ]
  },
  {
   "cell_type": "code",
   "execution_count": 3,
   "metadata": {},
   "outputs": [
    {
     "output_type": "execute_result",
     "data": {
      "text/plain": [
       "1"
      ]
     },
     "metadata": {},
     "execution_count": 3
    }
   ],
   "source": [
    "#Testing function with the test data\n",
    "levenshtein_distance(\"Luba\", \"Luca\")"
   ]
  },
  {
   "source": [
    "# Applying on the data"
   ],
   "cell_type": "markdown",
   "metadata": {}
  },
  {
   "cell_type": "code",
   "execution_count": 4,
   "metadata": {},
   "outputs": [],
   "source": [
    "# Reading the CSV file\n",
    "df = pd.read_csv('20210103_hundenamen.csv')"
   ]
  },
  {
   "cell_type": "code",
   "execution_count": 5,
   "metadata": {},
   "outputs": [
    {
     "output_type": "stream",
     "name": "stderr",
     "text": [
      "<ipython-input-5-5763d6088422>:2: FutureWarning: The default value of regex will change from True to False in a future version.\n  df['HUNDENAME_VERFEINERN'] = df['HUNDENAME'].str.replace('\\W', '')\n"
     ]
    }
   ],
   "source": [
    "# Cleaning data \n",
    "df['HUNDENAME_VERFEINERN'] = df['HUNDENAME'].str.replace('\\W', '')\n"
   ]
  },
  {
   "cell_type": "code",
   "execution_count": 6,
   "metadata": {},
   "outputs": [
    {
     "output_type": "execute_result",
     "data": {
      "text/plain": [
       "False"
      ]
     },
     "metadata": {},
     "execution_count": 6
    }
   ],
   "source": [
    "# Checking for NULL values\n",
    "df['HUNDENAME'].isnull().values.any()"
   ]
  },
  {
   "cell_type": "code",
   "execution_count": 7,
   "metadata": {},
   "outputs": [],
   "source": [
    "# Removing unknown values in the data frame \n",
    "df.drop(df.loc[df['HUNDENAME']=='unbekannt'].index, inplace=True)"
   ]
  },
  {
   "cell_type": "code",
   "execution_count": 8,
   "metadata": {},
   "outputs": [],
   "source": [
    "# Applying Function to data series\n",
    "df['LEVENSHTEIN_DISTANCE'] = df.apply(lambda row: levenshtein_distance(row['HUNDENAME_VERFEINERN'],'Luca'),axis=1)"
   ]
  },
  {
   "cell_type": "code",
   "execution_count": 9,
   "metadata": {},
   "outputs": [],
   "source": [
    "# Applying Filter where levenshtein distance is 1\n",
    "filter = df['LEVENSHTEIN_DISTANCE'] == 1\n",
    "df.where(filter, inplace = True)\n",
    "df_filter = df.dropna()"
   ]
  },
  {
   "cell_type": "code",
   "execution_count": 10,
   "metadata": {},
   "outputs": [
    {
     "output_type": "stream",
     "name": "stdout",
     "text": [
      "Cuca,Lua,Luba,Lucas,Luce,Lucia,Lucy,Lula,Luma,Luna,Lupa,Yuca\n"
     ]
    }
   ],
   "source": [
    "# Printing comma-separated names\n",
    "joined_string = \",\".join(df_filter['HUNDENAME'].unique())\n",
    "print(joined_string)"
   ]
  },
  {
   "cell_type": "code",
   "execution_count": null,
   "metadata": {},
   "outputs": [],
   "source": []
  }
 ]
}